{
  "nbformat": 4,
  "nbformat_minor": 0,
  "metadata": {
    "colab": {
      "provenance": [],
      "toc_visible": true
    },
    "kernelspec": {
      "name": "python3",
      "display_name": "Python 3"
    },
    "language_info": {
      "name": "python"
    }
  },
  "cells": [
    {
      "cell_type": "markdown",
      "source": [
        "Bag of words (количество встреч слов в тексте)   \n",
        "TF-IDF (нормируем по тому, как они важны)    \n",
        "TF = (Frequency of the word in the sentence) / (Total number of words in the sentence)    \n",
        "IDF = (Total number of sentences (documents))/(Number of sentences (documents) containing the word)\n"
      ],
      "metadata": {
        "id": "wO_744YX3SPm"
      }
    },
    {
      "cell_type": "markdown",
      "source": [
        "# Загрузка и проверка данных\n",
        "\n"
      ],
      "metadata": {
        "id": "UQ6r_5zz6x_7"
      }
    },
    {
      "cell_type": "code",
      "source": [
        "import re\n",
        "import pandas as pd\n",
        "import numpy as np"
      ],
      "metadata": {
        "id": "vOUxY71W3VuP"
      },
      "execution_count": 2,
      "outputs": []
    },
    {
      "cell_type": "code",
      "execution_count": 3,
      "metadata": {
        "colab": {
          "base_uri": "https://localhost:8080/",
          "height": 206
        },
        "id": "B0hsZxv53DSj",
        "outputId": "6237caab-a42d-461b-c507-3787c91aa4dd"
      },
      "outputs": [
        {
          "output_type": "execute_result",
          "data": {
            "text/plain": [
              "   Unnamed: 0                                               text  label\n",
              "0           0  Wall St. Bears Claw Back Into the Black (Reute...      2\n",
              "1           1  Carlyle Looks Toward Commercial Aerospace (Reu...      2\n",
              "2           2  Oil and Economy Cloud Stocks' Outlook (Reuters...      2\n",
              "3           3  Iraq Halts Oil Exports from Main Southern Pipe...      2\n",
              "4           4  Oil prices soar to all-time record, posing new...      2"
            ],
            "text/html": [
              "\n",
              "  <div id=\"df-945e1e0c-4c45-422d-bc21-7dc9e738c1e1\">\n",
              "    <div class=\"colab-df-container\">\n",
              "      <div>\n",
              "<style scoped>\n",
              "    .dataframe tbody tr th:only-of-type {\n",
              "        vertical-align: middle;\n",
              "    }\n",
              "\n",
              "    .dataframe tbody tr th {\n",
              "        vertical-align: top;\n",
              "    }\n",
              "\n",
              "    .dataframe thead th {\n",
              "        text-align: right;\n",
              "    }\n",
              "</style>\n",
              "<table border=\"1\" class=\"dataframe\">\n",
              "  <thead>\n",
              "    <tr style=\"text-align: right;\">\n",
              "      <th></th>\n",
              "      <th>Unnamed: 0</th>\n",
              "      <th>text</th>\n",
              "      <th>label</th>\n",
              "    </tr>\n",
              "  </thead>\n",
              "  <tbody>\n",
              "    <tr>\n",
              "      <th>0</th>\n",
              "      <td>0</td>\n",
              "      <td>Wall St. Bears Claw Back Into the Black (Reute...</td>\n",
              "      <td>2</td>\n",
              "    </tr>\n",
              "    <tr>\n",
              "      <th>1</th>\n",
              "      <td>1</td>\n",
              "      <td>Carlyle Looks Toward Commercial Aerospace (Reu...</td>\n",
              "      <td>2</td>\n",
              "    </tr>\n",
              "    <tr>\n",
              "      <th>2</th>\n",
              "      <td>2</td>\n",
              "      <td>Oil and Economy Cloud Stocks' Outlook (Reuters...</td>\n",
              "      <td>2</td>\n",
              "    </tr>\n",
              "    <tr>\n",
              "      <th>3</th>\n",
              "      <td>3</td>\n",
              "      <td>Iraq Halts Oil Exports from Main Southern Pipe...</td>\n",
              "      <td>2</td>\n",
              "    </tr>\n",
              "    <tr>\n",
              "      <th>4</th>\n",
              "      <td>4</td>\n",
              "      <td>Oil prices soar to all-time record, posing new...</td>\n",
              "      <td>2</td>\n",
              "    </tr>\n",
              "  </tbody>\n",
              "</table>\n",
              "</div>\n",
              "      <button class=\"colab-df-convert\" onclick=\"convertToInteractive('df-945e1e0c-4c45-422d-bc21-7dc9e738c1e1')\"\n",
              "              title=\"Convert this dataframe to an interactive table.\"\n",
              "              style=\"display:none;\">\n",
              "        \n",
              "  <svg xmlns=\"http://www.w3.org/2000/svg\" height=\"24px\"viewBox=\"0 0 24 24\"\n",
              "       width=\"24px\">\n",
              "    <path d=\"M0 0h24v24H0V0z\" fill=\"none\"/>\n",
              "    <path d=\"M18.56 5.44l.94 2.06.94-2.06 2.06-.94-2.06-.94-.94-2.06-.94 2.06-2.06.94zm-11 1L8.5 8.5l.94-2.06 2.06-.94-2.06-.94L8.5 2.5l-.94 2.06-2.06.94zm10 10l.94 2.06.94-2.06 2.06-.94-2.06-.94-.94-2.06-.94 2.06-2.06.94z\"/><path d=\"M17.41 7.96l-1.37-1.37c-.4-.4-.92-.59-1.43-.59-.52 0-1.04.2-1.43.59L10.3 9.45l-7.72 7.72c-.78.78-.78 2.05 0 2.83L4 21.41c.39.39.9.59 1.41.59.51 0 1.02-.2 1.41-.59l7.78-7.78 2.81-2.81c.8-.78.8-2.07 0-2.86zM5.41 20L4 18.59l7.72-7.72 1.47 1.35L5.41 20z\"/>\n",
              "  </svg>\n",
              "      </button>\n",
              "      \n",
              "  <style>\n",
              "    .colab-df-container {\n",
              "      display:flex;\n",
              "      flex-wrap:wrap;\n",
              "      gap: 12px;\n",
              "    }\n",
              "\n",
              "    .colab-df-convert {\n",
              "      background-color: #E8F0FE;\n",
              "      border: none;\n",
              "      border-radius: 50%;\n",
              "      cursor: pointer;\n",
              "      display: none;\n",
              "      fill: #1967D2;\n",
              "      height: 32px;\n",
              "      padding: 0 0 0 0;\n",
              "      width: 32px;\n",
              "    }\n",
              "\n",
              "    .colab-df-convert:hover {\n",
              "      background-color: #E2EBFA;\n",
              "      box-shadow: 0px 1px 2px rgba(60, 64, 67, 0.3), 0px 1px 3px 1px rgba(60, 64, 67, 0.15);\n",
              "      fill: #174EA6;\n",
              "    }\n",
              "\n",
              "    [theme=dark] .colab-df-convert {\n",
              "      background-color: #3B4455;\n",
              "      fill: #D2E3FC;\n",
              "    }\n",
              "\n",
              "    [theme=dark] .colab-df-convert:hover {\n",
              "      background-color: #434B5C;\n",
              "      box-shadow: 0px 1px 3px 1px rgba(0, 0, 0, 0.15);\n",
              "      filter: drop-shadow(0px 1px 2px rgba(0, 0, 0, 0.3));\n",
              "      fill: #FFFFFF;\n",
              "    }\n",
              "  </style>\n",
              "\n",
              "      <script>\n",
              "        const buttonEl =\n",
              "          document.querySelector('#df-945e1e0c-4c45-422d-bc21-7dc9e738c1e1 button.colab-df-convert');\n",
              "        buttonEl.style.display =\n",
              "          google.colab.kernel.accessAllowed ? 'block' : 'none';\n",
              "\n",
              "        async function convertToInteractive(key) {\n",
              "          const element = document.querySelector('#df-945e1e0c-4c45-422d-bc21-7dc9e738c1e1');\n",
              "          const dataTable =\n",
              "            await google.colab.kernel.invokeFunction('convertToInteractive',\n",
              "                                                     [key], {});\n",
              "          if (!dataTable) return;\n",
              "\n",
              "          const docLinkHtml = 'Like what you see? Visit the ' +\n",
              "            '<a target=\"_blank\" href=https://colab.research.google.com/notebooks/data_table.ipynb>data table notebook</a>'\n",
              "            + ' to learn more about interactive tables.';\n",
              "          element.innerHTML = '';\n",
              "          dataTable['output_type'] = 'display_data';\n",
              "          await google.colab.output.renderOutput(dataTable, element);\n",
              "          const docLink = document.createElement('div');\n",
              "          docLink.innerHTML = docLinkHtml;\n",
              "          element.appendChild(docLink);\n",
              "        }\n",
              "      </script>\n",
              "    </div>\n",
              "  </div>\n",
              "  "
            ]
          },
          "metadata": {},
          "execution_count": 3
        }
      ],
      "source": [
        "text = pd.read_csv('/content/inetensive_1.csv')\n",
        "text.head()"
      ]
    },
    {
      "cell_type": "code",
      "source": [
        "len(text)"
      ],
      "metadata": {
        "colab": {
          "base_uri": "https://localhost:8080/"
        },
        "id": "QZaKdz9K5f2U",
        "outputId": "830bba6f-23a8-4925-8ad7-0d31d7836056"
      },
      "execution_count": 4,
      "outputs": [
        {
          "output_type": "execute_result",
          "data": {
            "text/plain": [
              "120000"
            ]
          },
          "metadata": {},
          "execution_count": 4
        }
      ]
    },
    {
      "cell_type": "code",
      "source": [
        "# reg_ex = r'[\\\\!\"#$%&\\'()*+,/:;.<=>\\?@[\\]^_\\-`{|}\\n\\t]'"
      ],
      "metadata": {
        "id": "sz-1h3YT4403"
      },
      "execution_count": 5,
      "outputs": []
    },
    {
      "cell_type": "markdown",
      "source": [
        "# Preprocessing"
      ],
      "metadata": {
        "id": "FyJyJ_aa6ztF"
      }
    },
    {
      "cell_type": "code",
      "source": [
        "import nltk\n",
        "nltk.download('punkt')"
      ],
      "metadata": {
        "colab": {
          "base_uri": "https://localhost:8080/"
        },
        "id": "zmuzOH_y5nrZ",
        "outputId": "f2654155-a7d1-4271-8cd5-e6eb322183ea"
      },
      "execution_count": 6,
      "outputs": [
        {
          "output_type": "stream",
          "name": "stderr",
          "text": [
            "[nltk_data] Downloading package punkt to /root/nltk_data...\n",
            "[nltk_data]   Unzipping tokenizers/punkt.zip.\n"
          ]
        },
        {
          "output_type": "execute_result",
          "data": {
            "text/plain": [
              "True"
            ]
          },
          "metadata": {},
          "execution_count": 6
        }
      ]
    },
    {
      "cell_type": "code",
      "source": [
        "import numpy as np\n",
        "from nltk.tokenize import  word_tokenize\n",
        "\n",
        "\n",
        "#Preprocessing the text data\n",
        "sentences = []\n",
        "word_set = []\n",
        "\n",
        "for i in range(len(text)):\n",
        "    x = [i.lower() for  i in word_tokenize(text['text'][i]) if i.isalpha()]\n",
        "    sentences.append(x)\n"
      ],
      "metadata": {
        "id": "ObANHrw95N5C"
      },
      "execution_count": 8,
      "outputs": []
    },
    {
      "cell_type": "code",
      "source": [
        "sentences[0]"
      ],
      "metadata": {
        "colab": {
          "base_uri": "https://localhost:8080/"
        },
        "id": "9EgkKriG8rHc",
        "outputId": "169bf7bf-9993-4513-b9ad-c5e028d0c24e"
      },
      "execution_count": 9,
      "outputs": [
        {
          "output_type": "execute_result",
          "data": {
            "text/plain": [
              "['wall',\n",
              " 'bears',\n",
              " 'claw',\n",
              " 'back',\n",
              " 'into',\n",
              " 'the',\n",
              " 'black',\n",
              " 'reuters',\n",
              " 'reuters',\n",
              " 'wall',\n",
              " 'street',\n",
              " 'of',\n",
              " 'are',\n",
              " 'seeing',\n",
              " 'green',\n",
              " 'again']"
            ]
          },
          "metadata": {},
          "execution_count": 9
        }
      ]
    },
    {
      "cell_type": "code",
      "source": [
        "from tqdm import tqdm"
      ],
      "metadata": {
        "id": "3g3aS-_O9vSE"
      },
      "execution_count": 10,
      "outputs": []
    },
    {
      "cell_type": "markdown",
      "source": [
        "# Разобъем слова на n-грамы по 2 символа (на окончании 1)"
      ],
      "metadata": {
        "id": "UEG3ulSjKsWB"
      }
    },
    {
      "cell_type": "code",
      "source": [
        "for sent in sentences[0]:\n",
        "  print(sent)\n",
        "  for j in range(len(sent)):\n",
        "    print(sent[j:j+2])\n",
        "  break"
      ],
      "metadata": {
        "colab": {
          "base_uri": "https://localhost:8080/"
        },
        "id": "cKYhTv2nVuvq",
        "outputId": "9bb47f51-e6a4-4c40-e7ce-49b8d58c538f"
      },
      "execution_count": 172,
      "outputs": [
        {
          "output_type": "stream",
          "name": "stdout",
          "text": [
            "wall\n",
            "wa\n",
            "al\n",
            "ll\n",
            "l\n"
          ]
        }
      ]
    },
    {
      "cell_type": "code",
      "source": [
        "def generate_ngrams(texts, SymToCombine=2):\n",
        "     l = len(texts)\n",
        "     out_sent = []\n",
        "     for i in tqdm(range(l)):\n",
        "      words = texts[i]\n",
        "      out_word = []\n",
        "      for word in words:\n",
        "        output = []\n",
        "        for j in range(len(word)):\n",
        "          output.append(word[j:j+SymToCombine])\n",
        "        out_word.append(output)\n",
        "      out_sent.append(out_word)\n",
        "     return out_sent\n",
        "\n",
        "\n",
        "ngrams = generate_ngrams(texts=sentences, SymToCombine=2)"
      ],
      "metadata": {
        "colab": {
          "base_uri": "https://localhost:8080/"
        },
        "id": "OyN9aSToKyE2",
        "outputId": "85162a7c-c340-486f-dc96-80ab452d8222"
      },
      "execution_count": 21,
      "outputs": [
        {
          "output_type": "stream",
          "name": "stderr",
          "text": [
            "100%|██████████| 120000/120000 [00:13<00:00, 8644.12it/s] \n"
          ]
        }
      ]
    },
    {
      "cell_type": "code",
      "source": [
        "ngrams[0]"
      ],
      "metadata": {
        "colab": {
          "base_uri": "https://localhost:8080/"
        },
        "id": "DHFutjBRgKLH",
        "outputId": "27957fa7-7469-4b61-ffb0-e207eff05aae"
      },
      "execution_count": 22,
      "outputs": [
        {
          "output_type": "execute_result",
          "data": {
            "text/plain": [
              "[['wa', 'al', 'll', 'l'],\n",
              " ['be', 'ea', 'ar', 'rs', 's'],\n",
              " ['cl', 'la', 'aw', 'w'],\n",
              " ['ba', 'ac', 'ck', 'k'],\n",
              " ['in', 'nt', 'to', 'o'],\n",
              " ['th', 'he', 'e'],\n",
              " ['bl', 'la', 'ac', 'ck', 'k'],\n",
              " ['re', 'eu', 'ut', 'te', 'er', 'rs', 's'],\n",
              " ['re', 'eu', 'ut', 'te', 'er', 'rs', 's'],\n",
              " ['wa', 'al', 'll', 'l'],\n",
              " ['st', 'tr', 're', 'ee', 'et', 't'],\n",
              " ['of', 'f'],\n",
              " ['ar', 're', 'e'],\n",
              " ['se', 'ee', 'ei', 'in', 'ng', 'g'],\n",
              " ['gr', 're', 'ee', 'en', 'n'],\n",
              " ['ag', 'ga', 'ai', 'in', 'n']]"
            ]
          },
          "metadata": {},
          "execution_count": 22
        }
      ]
    },
    {
      "cell_type": "markdown",
      "source": [
        "## Множество всех n-грам"
      ],
      "metadata": {
        "id": "UyG_WxId72mK"
      }
    },
    {
      "cell_type": "code",
      "source": [
        "ngram_set = []\n",
        "for sent in tqdm(ngrams):\n",
        "  for word in sent:\n",
        "    for ngram in word:\n",
        "      if ngram not in ngram_set:\n",
        "        ngram_set.append(ngram)"
      ],
      "metadata": {
        "colab": {
          "base_uri": "https://localhost:8080/"
        },
        "id": "ERcXFC1jacIg",
        "outputId": "e81fcb21-5d70-45b5-a926-29510d9c2155"
      },
      "execution_count": 24,
      "outputs": [
        {
          "output_type": "stream",
          "name": "stderr",
          "text": [
            "100%|██████████| 120000/120000 [00:23<00:00, 5127.88it/s]\n"
          ]
        }
      ]
    },
    {
      "cell_type": "code",
      "source": [
        "ngram_set = set(ngram_set)\n",
        "total_documents = len(text)\n",
        "print(total_documents)\n",
        "\n",
        "index_dict = {}  # словарь с индексами\n",
        "i = 0\n",
        "for ngram in ngram_set:\n",
        "    index_dict[ngram] = i\n",
        "    i += 1\n",
        "print(len(index_dict))"
      ],
      "metadata": {
        "colab": {
          "base_uri": "https://localhost:8080/"
        },
        "id": "dM_hTYVELxPt",
        "outputId": "7d68ab36-609d-49d9-84d3-29250ff15a21"
      },
      "execution_count": 26,
      "outputs": [
        {
          "output_type": "stream",
          "name": "stdout",
          "text": [
            "120000\n",
            "690\n"
          ]
        }
      ]
    },
    {
      "cell_type": "markdown",
      "source": [
        "## Подсчёт частоты каждой n-грамы в тексте"
      ],
      "metadata": {
        "id": "GKT0tcgc78_P"
      }
    },
    {
      "cell_type": "code",
      "source": [
        "# for sent in ngrams_:\n",
        "#   for word in sent:\n",
        "#     for ngram in word:\n",
        "def count_dict(sentences=ngrams):\n",
        "    ngram_count = {}\n",
        "\n",
        "    for ngram in tqdm(ngram_set):\n",
        "        ngram_count[ngram] = 0\n",
        "        for sent in (sentences):\n",
        "          for i in range(len(sent)):\n",
        "            if ngram in sent[i]:\n",
        "              ngram_count[ngram] += 1\n",
        "    return ngram_count\n",
        "\n",
        "nrgam_count = count_dict(sentences=ngrams)"
      ],
      "metadata": {
        "colab": {
          "base_uri": "https://localhost:8080/"
        },
        "id": "LNl85z1zMuXb",
        "outputId": "f9aad19b-f4d1-4dc2-f1fc-d58977b59f23"
      },
      "execution_count": 54,
      "outputs": [
        {
          "output_type": "stream",
          "name": "stderr",
          "text": [
            "100%|██████████| 690/690 [05:10<00:00,  2.22it/s]\n"
          ]
        }
      ]
    },
    {
      "cell_type": "markdown",
      "source": [
        "## TF"
      ],
      "metadata": {
        "id": "q2StypOU8B8W"
      }
    },
    {
      "cell_type": "code",
      "source": [
        "# TF = (Frequency of the word in the sentence) / (Total number of words in the sentence) - Term Frequence\n",
        "def termfreq(document, ngram):\n",
        "    occurance = 0\n",
        "    N = 0\n",
        "    for words in document:\n",
        "      N += (len([ng for ng in words]))\n",
        "      occurance += len([word for word in words if word == ngram])\n",
        "    return occurance/N"
      ],
      "metadata": {
        "id": "VZhX1BOMPiGw"
      },
      "execution_count": 99,
      "outputs": []
    },
    {
      "cell_type": "code",
      "source": [
        "termfreq(ngrams[0], 'wa')"
      ],
      "metadata": {
        "colab": {
          "base_uri": "https://localhost:8080/"
        },
        "id": "Zz1Vm4EjwfEl",
        "outputId": "fb19a945-16ac-4d6d-f2a4-2d0176b3b9fe"
      },
      "execution_count": 101,
      "outputs": [
        {
          "output_type": "execute_result",
          "data": {
            "text/plain": [
              "0.02702702702702703"
            ]
          },
          "metadata": {},
          "execution_count": 101
        }
      ]
    },
    {
      "cell_type": "markdown",
      "source": [
        "## IDF"
      ],
      "metadata": {
        "id": "UrRBUCWJ8DKT"
      }
    },
    {
      "cell_type": "code",
      "source": [
        "# IDF = (Total number of sentences (documents))/(Number of sentences (documents) containing the word) - Inverse Document Frequency\n",
        "def inverse_doc_freq(ngram):\n",
        "    try:\n",
        "        ngram_occurance = nrgam_count[ngram] + 1\n",
        "    except:\n",
        "        ngram_occurance = 1\n",
        "    return np.log(total_documents/ngram_occurance)"
      ],
      "metadata": {
        "id": "0qKIFjVWP1DQ"
      },
      "execution_count": 121,
      "outputs": []
    },
    {
      "cell_type": "markdown",
      "source": [
        "## Получаем эмбеддинги текстов с помощью tf-idf"
      ],
      "metadata": {
        "id": "-E_OJrle8IkF"
      }
    },
    {
      "cell_type": "code",
      "source": [
        "def tf_idf(ngrams_sentence):\n",
        "    tf_idf_vec = np.zeros((len(ngram_set),))\n",
        "    for word in ngrams_sentence:\n",
        "      for ng in word:\n",
        "        tf = termfreq(ngrams_sentence, ng)\n",
        "        idf = inverse_doc_freq(ng)\n",
        "        value = tf*idf\n",
        "        tf_idf_vec[index_dict[ng]] = value\n",
        "    return tf_idf_vec"
      ],
      "metadata": {
        "id": "AlkXnrKnSEzY"
      },
      "execution_count": 129,
      "outputs": []
    },
    {
      "cell_type": "code",
      "source": [
        "#TF-IDF Encoded text, длина вектора = количество n-gram в словаре\n",
        "vectors = []\n",
        "\n",
        "for i in tqdm(range(len(ngrams))):\n",
        "    vec = tf_idf(ngrams[i])\n",
        "    vectors.append(vec)"
      ],
      "metadata": {
        "colab": {
          "base_uri": "https://localhost:8080/"
        },
        "id": "kFFqdlwaShY6",
        "outputId": "75bfcedf-602c-4837-f324-c53d2d82d3f1"
      },
      "execution_count": 130,
      "outputs": [
        {
          "output_type": "stream",
          "name": "stderr",
          "text": [
            "100%|██████████| 120000/120000 [08:29<00:00, 235.71it/s]\n"
          ]
        }
      ]
    },
    {
      "cell_type": "markdown",
      "source": [
        "# Обучим логистическую регрессию для проверки"
      ],
      "metadata": {
        "id": "PAJLfZWp8PlY"
      }
    },
    {
      "cell_type": "code",
      "source": [
        "from sklearn.linear_model import LogisticRegression\n",
        "from sklearn.model_selection import train_test_split\n",
        "from sklearn.metrics import accuracy_score, roc_auc_score"
      ],
      "metadata": {
        "id": "d927FdFs3Q1j"
      },
      "execution_count": 135,
      "outputs": []
    },
    {
      "cell_type": "code",
      "source": [
        "X_train, X_test, y_train, y_test = train_test_split(\n",
        "    vectors, text['label'], test_size = 0.3, random_state=42\n",
        ")\n",
        "\n",
        "\n",
        "logit = LogisticRegression(random_state=42)"
      ],
      "metadata": {
        "id": "f4cUEnWB3w33"
      },
      "execution_count": 138,
      "outputs": []
    },
    {
      "cell_type": "code",
      "source": [
        "logit.fit(X_train, y_train)"
      ],
      "metadata": {
        "colab": {
          "base_uri": "https://localhost:8080/",
          "height": 218
        },
        "id": "z1ywmib_36fr",
        "outputId": "fc258df2-6284-4de5-8b89-7e40e53b1ac8"
      },
      "execution_count": 139,
      "outputs": [
        {
          "output_type": "stream",
          "name": "stderr",
          "text": [
            "/usr/local/lib/python3.10/dist-packages/sklearn/linear_model/_logistic.py:458: ConvergenceWarning: lbfgs failed to converge (status=1):\n",
            "STOP: TOTAL NO. of ITERATIONS REACHED LIMIT.\n",
            "\n",
            "Increase the number of iterations (max_iter) or scale the data as shown in:\n",
            "    https://scikit-learn.org/stable/modules/preprocessing.html\n",
            "Please also refer to the documentation for alternative solver options:\n",
            "    https://scikit-learn.org/stable/modules/linear_model.html#logistic-regression\n",
            "  n_iter_i = _check_optimize_result(\n"
          ]
        },
        {
          "output_type": "execute_result",
          "data": {
            "text/plain": [
              "LogisticRegression(random_state=42)"
            ],
            "text/html": [
              "<style>#sk-container-id-1 {color: black;background-color: white;}#sk-container-id-1 pre{padding: 0;}#sk-container-id-1 div.sk-toggleable {background-color: white;}#sk-container-id-1 label.sk-toggleable__label {cursor: pointer;display: block;width: 100%;margin-bottom: 0;padding: 0.3em;box-sizing: border-box;text-align: center;}#sk-container-id-1 label.sk-toggleable__label-arrow:before {content: \"▸\";float: left;margin-right: 0.25em;color: #696969;}#sk-container-id-1 label.sk-toggleable__label-arrow:hover:before {color: black;}#sk-container-id-1 div.sk-estimator:hover label.sk-toggleable__label-arrow:before {color: black;}#sk-container-id-1 div.sk-toggleable__content {max-height: 0;max-width: 0;overflow: hidden;text-align: left;background-color: #f0f8ff;}#sk-container-id-1 div.sk-toggleable__content pre {margin: 0.2em;color: black;border-radius: 0.25em;background-color: #f0f8ff;}#sk-container-id-1 input.sk-toggleable__control:checked~div.sk-toggleable__content {max-height: 200px;max-width: 100%;overflow: auto;}#sk-container-id-1 input.sk-toggleable__control:checked~label.sk-toggleable__label-arrow:before {content: \"▾\";}#sk-container-id-1 div.sk-estimator input.sk-toggleable__control:checked~label.sk-toggleable__label {background-color: #d4ebff;}#sk-container-id-1 div.sk-label input.sk-toggleable__control:checked~label.sk-toggleable__label {background-color: #d4ebff;}#sk-container-id-1 input.sk-hidden--visually {border: 0;clip: rect(1px 1px 1px 1px);clip: rect(1px, 1px, 1px, 1px);height: 1px;margin: -1px;overflow: hidden;padding: 0;position: absolute;width: 1px;}#sk-container-id-1 div.sk-estimator {font-family: monospace;background-color: #f0f8ff;border: 1px dotted black;border-radius: 0.25em;box-sizing: border-box;margin-bottom: 0.5em;}#sk-container-id-1 div.sk-estimator:hover {background-color: #d4ebff;}#sk-container-id-1 div.sk-parallel-item::after {content: \"\";width: 100%;border-bottom: 1px solid gray;flex-grow: 1;}#sk-container-id-1 div.sk-label:hover label.sk-toggleable__label {background-color: #d4ebff;}#sk-container-id-1 div.sk-serial::before {content: \"\";position: absolute;border-left: 1px solid gray;box-sizing: border-box;top: 0;bottom: 0;left: 50%;z-index: 0;}#sk-container-id-1 div.sk-serial {display: flex;flex-direction: column;align-items: center;background-color: white;padding-right: 0.2em;padding-left: 0.2em;position: relative;}#sk-container-id-1 div.sk-item {position: relative;z-index: 1;}#sk-container-id-1 div.sk-parallel {display: flex;align-items: stretch;justify-content: center;background-color: white;position: relative;}#sk-container-id-1 div.sk-item::before, #sk-container-id-1 div.sk-parallel-item::before {content: \"\";position: absolute;border-left: 1px solid gray;box-sizing: border-box;top: 0;bottom: 0;left: 50%;z-index: -1;}#sk-container-id-1 div.sk-parallel-item {display: flex;flex-direction: column;z-index: 1;position: relative;background-color: white;}#sk-container-id-1 div.sk-parallel-item:first-child::after {align-self: flex-end;width: 50%;}#sk-container-id-1 div.sk-parallel-item:last-child::after {align-self: flex-start;width: 50%;}#sk-container-id-1 div.sk-parallel-item:only-child::after {width: 0;}#sk-container-id-1 div.sk-dashed-wrapped {border: 1px dashed gray;margin: 0 0.4em 0.5em 0.4em;box-sizing: border-box;padding-bottom: 0.4em;background-color: white;}#sk-container-id-1 div.sk-label label {font-family: monospace;font-weight: bold;display: inline-block;line-height: 1.2em;}#sk-container-id-1 div.sk-label-container {text-align: center;}#sk-container-id-1 div.sk-container {/* jupyter's `normalize.less` sets `[hidden] { display: none; }` but bootstrap.min.css set `[hidden] { display: none !important; }` so we also need the `!important` here to be able to override the default hidden behavior on the sphinx rendered scikit-learn.org. See: https://github.com/scikit-learn/scikit-learn/issues/21755 */display: inline-block !important;position: relative;}#sk-container-id-1 div.sk-text-repr-fallback {display: none;}</style><div id=\"sk-container-id-1\" class=\"sk-top-container\"><div class=\"sk-text-repr-fallback\"><pre>LogisticRegression(random_state=42)</pre><b>In a Jupyter environment, please rerun this cell to show the HTML representation or trust the notebook. <br />On GitHub, the HTML representation is unable to render, please try loading this page with nbviewer.org.</b></div><div class=\"sk-container\" hidden><div class=\"sk-item\"><div class=\"sk-estimator sk-toggleable\"><input class=\"sk-toggleable__control sk-hidden--visually\" id=\"sk-estimator-id-1\" type=\"checkbox\" checked><label for=\"sk-estimator-id-1\" class=\"sk-toggleable__label sk-toggleable__label-arrow\">LogisticRegression</label><div class=\"sk-toggleable__content\"><pre>LogisticRegression(random_state=42)</pre></div></div></div></div></div>"
            ]
          },
          "metadata": {},
          "execution_count": 139
        }
      ]
    },
    {
      "cell_type": "code",
      "source": [
        "y_pred_proba = logit.predict_proba(X_test)"
      ],
      "metadata": {
        "id": "ET3jBuRi3_0_"
      },
      "execution_count": 140,
      "outputs": []
    },
    {
      "cell_type": "code",
      "source": [
        "y_pred = logit.predict(X_test)"
      ],
      "metadata": {
        "id": "sUgQsDCu5Gw4"
      },
      "execution_count": 160,
      "outputs": []
    },
    {
      "cell_type": "code",
      "source": [
        "accuracy_score(y_test, y_pred)"
      ],
      "metadata": {
        "colab": {
          "base_uri": "https://localhost:8080/"
        },
        "id": "A8O3MBRM4EPq",
        "outputId": "c0018f7a-5027-484e-ec4a-57b0e5333a92"
      },
      "execution_count": 162,
      "outputs": [
        {
          "output_type": "execute_result",
          "data": {
            "text/plain": [
              "0.7004444444444444"
            ]
          },
          "metadata": {},
          "execution_count": 162
        }
      ]
    },
    {
      "cell_type": "code",
      "source": [
        "roc_auc_score(y_test, y_pred_proba, multi_class='ovr')"
      ],
      "metadata": {
        "colab": {
          "base_uri": "https://localhost:8080/"
        },
        "id": "diBL7jOU4CeG",
        "outputId": "fcb14d9a-3527-4336-e00b-5276c0443cdd"
      },
      "execution_count": 168,
      "outputs": [
        {
          "output_type": "execute_result",
          "data": {
            "text/plain": [
              "0.8911401736212246"
            ]
          },
          "metadata": {},
          "execution_count": 168
        }
      ]
    },
    {
      "cell_type": "code",
      "source": [],
      "metadata": {
        "id": "4FdlAKWu57Um"
      },
      "execution_count": null,
      "outputs": []
    }
  ]
}